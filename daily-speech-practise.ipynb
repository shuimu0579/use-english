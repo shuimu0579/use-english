{
 "cells": [
  {
   "cell_type": "code",
   "execution_count": null,
   "id": "f330d08f-fa3c-4cf4-bf53-136be20393e9",
   "metadata": {
    "scrolled": true,
    "tags": []
   },
   "outputs": [],
   "source": [
    "# Install or update openai modules \n",
    "%pip install openai\n",
    "# %pip install --upgrade openai"
   ]
  },
  {
   "cell_type": "code",
   "execution_count": null,
   "id": "71ad2e48-3b33-42d3-8e4c-9f89c61110de",
   "metadata": {
    "tags": []
   },
   "outputs": [],
   "source": [
    "# Load Modules\n",
    "from openai import OpenAI\n",
    "import IPython\n",
    "from datetime import datetime"
   ]
  },
  {
   "cell_type": "code",
   "execution_count": null,
   "id": "7a492b90-fa90-4d8b-934a-05d0cc2ff2c1",
   "metadata": {
    "tags": []
   },
   "outputs": [],
   "source": [
    "client = OpenAI(\n",
    "  # replace openai api key below (which is invalid) with your own\n",
    "  api_key=\"sk-wk6dVWO2ofXwI3sRmTbT3BlbkFJVzOLv7hJG8OaClRR4BxQ\"\n",
    ")\n",
    "\n",
    "role_definition = \"\"\"\n",
    "你是我的英语教练。\n",
    "请将我的话改写成英文。\n",
    "不需要逐字翻译。\n",
    "请分析清楚我的内容，而后用英文重新逻辑清晰地组织它。\n",
    "请使用地道的美式英语。\n",
    "请尽量使用日常词汇，尽量优先使用短语动词或者习惯用语。\n",
    "每个句子最长不应该超过 20 个单词。\n",
    "\"\"\"\n",
    "\n",
    "user_prompt = \"\"\"\n",
    "重构也经常被误解为人们用来修复过去错误或清理丑陋代码的事情。当然，当你遇到丑陋的代码时，你必须进行重构，但优秀的代码也需要大量的重构。每当我编写代码时，我都在做权衡——我需要参数化多少，函数之间的界限在哪里？我昨天为特性集做出的权衡可能不再适用于我今天要添加的新特性。好处在于，当我需要改变这些权衡以反映新的现实时，清晰的代码更容易进行重构。\n",
    "\"\"\"\n",
    "\n",
    "# how many versions needed.\n",
    "number_of_choices = 1\n",
    "\n",
    "rspd_translation = client.chat.completions.create(\n",
    "  model=\"gpt-4-1106-preview\",\n",
    "  messages=[\n",
    "    {\n",
    "        \"role\": \"system\", \n",
    "         \"content\": role_definition\n",
    "    },\n",
    "    {\n",
    "        \"role\": \"user\", \n",
    "        \"content\": user_prompt\n",
    "    }\n",
    "  ],\n",
    "  n = number_of_choices \n",
    ")\n",
    "\n",
    "for rspd in rspd_translation.choices:\n",
    "  print(f\"{rspd.index+1}.\\n{rspd.message.content}\\n\\n\")\n"
   ]
  },
  {
   "cell_type": "code",
   "execution_count": null,
   "id": "4a92f81f-fe8d-4cc8-a770-13ea1e12259f",
   "metadata": {
    "tags": []
   },
   "outputs": [],
   "source": [
    "# Create audios for each versions (three was set as default previously.)\n",
    "\n",
    "voice_performer = \"alloy\"\n",
    "# alloy, echo, fable, onyx, nova, and shimmer, the last two of which are femail voices.\n",
    "\n",
    "for i in range(number_of_choices):\n",
    "  speech_file_path = f'{datetime.now().strftime(\"%Y%m%d_%H%M%S\")}_speech.mp3'\n",
    "  \n",
    "  rspd_audio = client.audio.speech.create(\n",
    "    model=\"tts-1\",\n",
    "    voice=voice_performer,\n",
    "    input=rspd_translation.choices[i].message.content\n",
    "  )\n",
    "  \n",
    "  rspd_audio.stream_to_file(speech_file_path)\n",
    "  \n",
    "  IPython.display.Audio(speech_file_path)"
   ]
  },
  {
   "cell_type": "code",
   "execution_count": null,
   "id": "d28f1714-bdbe-4f29-b52c-56a07af6d60e",
   "metadata": {
    "tags": []
   },
   "outputs": [],
   "source": [
    "# Or else, you could rewrite your own version for open ai tts\n",
    "your_version = \"\"\"\n",
    "\n",
    "\"\"\""
   ]
  },
  {
   "cell_type": "code",
   "execution_count": null,
   "id": "4696c0dc-8983-475b-b376-ec0f059cffa8",
   "metadata": {
    "tags": []
   },
   "outputs": [],
   "source": [
    "# Create the audio of your version\n",
    "speech_file_path = f'{datetime.now().strftime(\"%Y%m%d_%H%M%S\")}_speech.mp3'\n",
    "\n",
    "voice_performer = \"alloy\"\n",
    "# alloy, echo, fable, onyx, nova, and shimmer, the last two of which are femail voices.\n",
    "\n",
    "rspd_audio = client.audio.speech.create(\n",
    "  model=\"tts-1\",\n",
    "  voice=voice_performer,\n",
    "  input=your_version\n",
    ")\n",
    "\n",
    "rspd_audio.stream_to_file(speech_file_path)\n",
    "\n",
    "IPython.display.Audio(speech_file_path)"
   ]
  },
  {
   "cell_type": "code",
   "execution_count": null,
   "id": "7a1dbc87-0812-4cb9-bf38-987e8b0cdc5c",
   "metadata": {},
   "outputs": [],
   "source": []
  },
  {
   "cell_type": "code",
   "execution_count": null,
   "id": "30e64117-0e87-4a1d-9fee-537ef5859a96",
   "metadata": {},
   "outputs": [],
   "source": []
  }
 ],
 "metadata": {
  "kernelspec": {
   "display_name": "Python 3 (ipykernel)",
   "language": "python",
   "name": "python3"
  },
  "language_info": {
   "codemirror_mode": {
    "name": "ipython",
    "version": 3
   },
   "file_extension": ".py",
   "mimetype": "text/x-python",
   "name": "python",
   "nbconvert_exporter": "python",
   "pygments_lexer": "ipython3",
   "version": "3.11.5"
  }
 },
 "nbformat": 4,
 "nbformat_minor": 5
}
